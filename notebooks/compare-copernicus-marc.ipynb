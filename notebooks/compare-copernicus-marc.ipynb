{
 "cells": [
  {
   "cell_type": "markdown",
   "id": "ce8ec081-420b-4eb2-92b4-87857b2ac407",
   "metadata": {},
   "source": [
    "## Comparing sea temperature from Copernics assimilated model and marc model\n",
    " [Atlantic - European North West Shelf - Ocean Physics Analysis and Forecast from Copernicus Marine services](https://data.marine.copernicus.eu/product/NORTHWESTSHELF_ANALYSIS_FORECAST_PHY_004_013/services) "
   ]
  },
  {
   "cell_type": "code",
   "execution_count": null,
   "id": "44b02df1-a7f9-42ac-bf05-f291c095d697",
   "metadata": {
    "tags": []
   },
   "outputs": [],
   "source": [
    "import intake\n",
    "import xarray as xr\n",
    "import numpy as np\n",
    "#clim=(10,25);clim=(9,15)"
   ]
  },
  {
   "cell_type": "code",
   "execution_count": null,
   "id": "8073ea72-0609-41cb-9f3c-3f5379dbf202",
   "metadata": {
    "tags": []
   },
   "outputs": [],
   "source": [
    "import hvplot.xarray\n",
    "clim=(9,20)\n",
    "xlim=(-9.31402439,-0.76219512)\n",
    "ylim=(45.54662379, 51.28617363)\n",
    "width=400\n",
    "height=100"
   ]
  },
  {
   "cell_type": "code",
   "execution_count": null,
   "id": "d31eb665-6b25-430d-b0db-71cb0c06c6d6",
   "metadata": {
    "tags": []
   },
   "outputs": [],
   "source": [
    "catalogue=\"/home/datawork-taos-s/intranet/kerchunk/ref-copernicus.yaml\"\n",
    "catalogue = \"https://data-taos.ifremer.fr/kerchunk/ref-copernicus.yaml\"\n",
    "cat = intake.open_catalog(catalogue)\n",
    "copernicus=cat.copernicus(year=year).to_dask()#.sel(time=time)\n",
    "copernicus=copernicus.thetao.sel(depth='0')"
   ]
  },
  {
   "cell_type": "code",
   "execution_count": null,
   "id": "e2de1b7b-7755-49e0-ba31-b824d0d0c924",
   "metadata": {
    "tags": []
   },
   "outputs": [],
   "source": [
    "catalogue = \"https://data-taos.ifremer.fr/kerchunk/ref-marc.yaml\"\n",
    "cat = intake.open_catalog(catalogue)\n",
    "marc=cat.marc(region='f1_e2500' , year=year).to_dask().rename({\"latitude\":\"lat\",\"longitude\":\"lon\"})\n",
    "marc['lon']=marc.lon.compute()\n",
    "marc['lat']=marc.lat.compute()\n",
    "marc=marc.TEMP.sel(level='0',method='nearest')"
   ]
  },
  {
   "cell_type": "code",
   "execution_count": null,
   "id": "49bf296d-dc3a-4ed3-a424-b53622636f9c",
   "metadata": {
    "tags": []
   },
   "outputs": [],
   "source": [
    "import hvplot as hv\n",
    "hv.extension(\"matplotlib\")\n",
    "hv.output(widget_location='bottom')\n",
    "marc['time']=copernicus['time']\n",
    "marc.hvplot.quadmesh(    y='lat',x='lon',cmap='jet',xlim=xlim,ylim=ylim,width=width,clim=clim\n",
    ")+copernicus.hvplot.quadmesh(    y='lat',x='lon',cmap='jet',xlim=xlim,ylim=ylim,width=width,clim=clim\n",
    ")"
   ]
  }
 ],
 "metadata": {
  "kernelspec": {
   "display_name": "Python 3 (ipykernel)",
   "language": "python",
   "name": "python3"
  },
  "language_info": {
   "codemirror_mode": {
    "name": "ipython",
    "version": 3
   },
   "file_extension": ".py",
   "mimetype": "text/x-python",
   "name": "python",
   "nbconvert_exporter": "python",
   "pygments_lexer": "ipython3",
   "version": "3.11.4"
  }
 },
 "nbformat": 4,
 "nbformat_minor": 5
}
