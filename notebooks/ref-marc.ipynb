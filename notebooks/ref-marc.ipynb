{
 "cells": [
  {
   "cell_type": "markdown",
   "id": "e0f3b6ca-5f47-467d-9861-2d76deac2aef",
   "metadata": {
    "tags": []
   },
   "source": [
    "# Analyse MARC (https://marc.ifremer.fr) data "
   ]
  },
  {
   "cell_type": "code",
   "execution_count": null,
   "id": "7e46667a-1988-4c93-8f1b-503c4f965ba7",
   "metadata": {},
   "outputs": [],
   "source": [
    "import fsspec\n",
    "import intake\n",
    "import xarray as xr\n",
    "\n",
    "catalogue=\"/home/datawork-taos-s/intranet/kerchunk/ref-marc.yaml\"\n",
    "catalogue = \"https://data-taos.ifremer.fr/kerchunk/ref-marc.yaml\""
   ]
  },
  {
   "cell_type": "code",
   "execution_count": null,
   "id": "a0ccc244-1a4d-4d68-b449-3b17e2e5ab7a",
   "metadata": {},
   "outputs": [],
   "source": [
    "def list_param(cat, param):\n",
    "    return cat.metadata[\"parameters\"][param][\"allowed\"]\n",
    "\n",
    "def allowed_param(cat):\n",
    "    return cat.metadata[\"parameters\"]\n",
    "\n",
    "def allowed_years(region):\n",
    "    fs = fsspec.filesystem(\"https\") if ('https' in catalogue) else fsspec.filesystem(\"file\")\n",
    "    files = fs.glob(catalogue.replace(\".yaml\", \"/\") + region + \"/*.json.zst\")\n",
    "    years = [\n",
    "        f.replace(\".json.zst\", \"\").replace(\n",
    "            catalogue.replace(\".yaml\", \"/\") + region + \"/\", \"\"\n",
    "        )\n",
    "        for f in files\n",
    "    ]\n",
    "    years.sort()\n",
    "    return years\n",
    "\n",
    "def year_concat(cat, source, region):\n",
    "    concat = [\n",
    "        cat[source](region=region, year=i).to_dask() for i in allowed_years(region)\n",
    "    ]\n",
    "\n",
    "    return xr.concat(\n",
    "        concat, dim=\"time\", coords=\"minimal\", data_vars=\"minimal\", compat=\"override\"\n",
    "    )"
   ]
  },
  {
   "cell_type": "markdown",
   "id": "a6567709-570f-4162-a0eb-a2608d5f2535",
   "metadata": {},
   "source": [
    "Detail of the functions:\n",
    "-----------------------------------------------------------------------------------------------  \n",
    "    list_param(cat, param)    \n",
    ">- Takes 2 arguments: cat = An opened catalog, param = The name of a parameter.\n",
    ">- Returns a ptyhon list containing all the parameters.\n",
    "\n",
    "    allowed_param(cat)    \n",
    ">- Takes 1 argument: cat = An opened catalog\n",
    ">- Returns a python dict containing the allowed values of each parameters and their description\n",
    "\n",
    "    Allowed_years(region)    \n",
    ">- Takes 1 argument: region = A region of data.\n",
    ">- Returns a pythton list containing all the year available in kerchunk catalogue.  \n",
    "\n",
    "    year_concat(cat, source, region)    \n",
    ">- Takes 3 arguments: cat = An opened catalog, source = the source from this catalog, region = the region where the data comes from\n",
    ">- Returns: A dataset concatenated over the all available in kerchunk. \n"
   ]
  },
  {
   "cell_type": "markdown",
   "id": "1a328a1d-b57e-48f3-91ca-7358c999efa2",
   "metadata": {},
   "source": [
    "# Open intake catalgue.  "
   ]
  },
  {
   "cell_type": "code",
   "execution_count": null,
   "id": "37fbd33e-e9fe-4987-be1c-7ac265a54068",
   "metadata": {},
   "outputs": [],
   "source": [
    "cat = intake.open_catalog(catalogue)"
   ]
  },
  {
   "cell_type": "markdown",
   "id": "de091ada-c6fb-41bd-af16-da55663a59b8",
   "metadata": {},
   "source": [
    "## Inspect intake catalogue"
   ]
  },
  {
   "cell_type": "code",
   "execution_count": null,
   "id": "1d455168-cd2a-4a0b-84c2-2a79e7312d24",
   "metadata": {},
   "outputs": [],
   "source": [
    "regions = list_param(cat, \"region\")"
   ]
  },
  {
   "cell_type": "code",
   "execution_count": null,
   "id": "7bfa71da-e235-4d72-8edc-2da68e325b31",
   "metadata": {},
   "outputs": [],
   "source": [
    "regions"
   ]
  },
  {
   "cell_type": "markdown",
   "id": "deb86431-0fed-4067-8f9f-b72279a41540",
   "metadata": {},
   "source": [
    "## Define a region, inspect the catalogue to know which year the datas are availableand, then load the data"
   ]
  },
  {
   "cell_type": "code",
   "execution_count": null,
   "id": "136251dc-ccd2-48d6-bf34-2f0c5c1a9fe2",
   "metadata": {
    "tags": []
   },
   "outputs": [],
   "source": [
    "region_local = \"f1_e2500_agrif/MARC_F1-MARS3D-SEINE\""
   ]
  },
  {
   "cell_type": "code",
   "execution_count": null,
   "id": "83148744-7e96-43e9-a97e-590325fcf0fe",
   "metadata": {
    "tags": []
   },
   "outputs": [],
   "source": [
    "allowed_years(region_local)"
   ]
  },
  {
   "cell_type": "code",
   "execution_count": null,
   "id": "1ecfc712-8fea-4b0c-b03a-0c603fd7b362",
   "metadata": {},
   "outputs": [],
   "source": [
    "region_global = \"f1_e2500_agrif/MARC_F1-MARS3D-MANGAE2500-AGRIF\""
   ]
  },
  {
   "cell_type": "code",
   "execution_count": null,
   "id": "d6c05aeb-871b-40bf-b862-c98a95e7bcf1",
   "metadata": {},
   "outputs": [],
   "source": [
    "allowed_years(region_global)"
   ]
  },
  {
   "cell_type": "code",
   "execution_count": null,
   "id": "d00f9b3a-1a7a-4c4f-acd5-d8e6937838b2",
   "metadata": {},
   "outputs": [],
   "source": [
    "year='2018'\n",
    "time=['2018-06-23T00:00:00.000008', '2018-06-23T12:00:00.000000']\n",
    "time='2018-06-23'"
   ]
  },
  {
   "cell_type": "code",
   "execution_count": null,
   "id": "7b8f7853-78d9-4c3f-81e9-00473b9e65a4",
   "metadata": {
    "tags": []
   },
   "outputs": [],
   "source": [
    "ds_local = cat.marc(region=region_local , year=year).to_dask().sel(time=time)\n",
    "ds_global = cat.marc(region=region_global, year=year).to_dask().sel(time=time)"
   ]
  },
  {
   "cell_type": "markdown",
   "id": "c2c6f2e8-09f3-4eab-af9f-a0b9a2c88ba2",
   "metadata": {},
   "source": [
    "## Plot data"
   ]
  },
  {
   "cell_type": "code",
   "execution_count": null,
   "id": "50fbc34c-78d2-4ac2-9acc-8b49c049f3c6",
   "metadata": {},
   "outputs": [],
   "source": [
    "%%time\n",
    "da_local = ds_local.TEMP.unify_chunks()\n",
    "da_global = ds_global.TEMP.unify_chunks()\n",
    "\n"
   ]
  },
  {
   "cell_type": "code",
   "execution_count": null,
   "id": "7d4447e5-9571-4bea-9e3c-96b515c1a87a",
   "metadata": {},
   "outputs": [],
   "source": [
    "#import geoviews.feature as gf\n",
    "import hvplot.xarray\n",
    "\n",
    "(\n",
    "da_local.hvplot.quadmesh(\n",
    "    x=\"longitude\", y=\"latitude\", rasterize=True, geo=True, cmap=\"BuPu\", coastline=True\n",
    ")\n",
    "\n",
    " ) \n",
    "#* gf.land.opts(scale=\"10m\") * gf.coastline.opts(scale=\"10m\")"
   ]
  },
  {
   "cell_type": "code",
   "execution_count": null,
   "id": "00badeb7-ad4e-4ffa-8224-15f2bf9513c0",
   "metadata": {},
   "outputs": [],
   "source": [
    "da_global.hvplot.quadmesh(\n",
    "    x=\"longitude\", y=\"latitude\", rasterize=True, geo=True, cmap=\"BuPu\", coastline=True\n",
    ")"
   ]
  },
  {
   "cell_type": "code",
   "execution_count": null,
   "id": "e0e27986-1228-4673-97e5-beb71530a9eb",
   "metadata": {},
   "outputs": [],
   "source": []
  }
 ],
 "metadata": {
  "kernelspec": {
   "display_name": "Python 3 (ipykernel)",
   "language": "python",
   "name": "python3"
  },
  "language_info": {
   "codemirror_mode": {
    "name": "ipython",
    "version": 3
   },
   "file_extension": ".py",
   "mimetype": "text/x-python",
   "name": "python",
   "nbconvert_exporter": "python",
   "pygments_lexer": "ipython3",
   "version": "3.10.8"
  }
 },
 "nbformat": 4,
 "nbformat_minor": 5
}
